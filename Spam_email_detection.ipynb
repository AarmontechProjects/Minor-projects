{
 "cells": [
  {
   "cell_type": "code",
   "execution_count": null,
   "metadata": {
    "id": "IYvA4cWsTIpc"
   },
   "outputs": [],
   "source": [
    "#We would work on a small dataset of 5000 or so emails with spam and not spam(ham)\n",
    "#dataset can be found on kaggle here : https://www.kaggle.com/balakishan77/spam-or-ham-email-classification\n",
    "#Although there are very big datasets too in kaggle with 500000 emails, \n",
    "#but for ease of training and understanind, we are using 5600"
   ]
  },
  {
   "cell_type": "code",
   "execution_count": null,
   "metadata": {
    "id": "1ij_zxrVTprO"
   },
   "outputs": [],
   "source": [
    "#Upload our data set and keep in same folder as this notebook\n",
    "import numpy as np \n",
    "import pandas as pd\n",
    "\n",
    "\n",
    "import nltk\n",
    "from nltk.corpus import stopwords\n"
   ]
  },
  {
   "cell_type": "code",
   "execution_count": null,
   "metadata": {
    "id": "_-qGoDdvYPQ2"
   },
   "outputs": [],
   "source": [
    "## Data Loading and checking for nulls and other"
   ]
  },
  {
   "cell_type": "code",
   "execution_count": null,
   "metadata": {
    "colab": {
     "base_uri": "https://localhost:8080/",
     "height": 204
    },
    "id": "waOIjENEVIJS",
    "outputId": "6a5732a0-6c07-478e-e6d6-11a9eeda0805"
   },
   "outputs": [
    {
     "data": {
      "text/html": [
       "<div>\n",
       "<style scoped>\n",
       "    .dataframe tbody tr th:only-of-type {\n",
       "        vertical-align: middle;\n",
       "    }\n",
       "\n",
       "    .dataframe tbody tr th {\n",
       "        vertical-align: top;\n",
       "    }\n",
       "\n",
       "    .dataframe thead th {\n",
       "        text-align: right;\n",
       "    }\n",
       "</style>\n",
       "<table border=\"1\" class=\"dataframe\">\n",
       "  <thead>\n",
       "    <tr style=\"text-align: right;\">\n",
       "      <th></th>\n",
       "      <th>text</th>\n",
       "      <th>spam</th>\n",
       "    </tr>\n",
       "  </thead>\n",
       "  <tbody>\n",
       "    <tr>\n",
       "      <th>0</th>\n",
       "      <td>Subject: naturally irresistible your corporate...</td>\n",
       "      <td>1</td>\n",
       "    </tr>\n",
       "    <tr>\n",
       "      <th>1</th>\n",
       "      <td>Subject: the stock trading gunslinger  fanny i...</td>\n",
       "      <td>1</td>\n",
       "    </tr>\n",
       "    <tr>\n",
       "      <th>2</th>\n",
       "      <td>Subject: unbelievable new homes made easy  im ...</td>\n",
       "      <td>1</td>\n",
       "    </tr>\n",
       "    <tr>\n",
       "      <th>3</th>\n",
       "      <td>Subject: 4 color printing special  request add...</td>\n",
       "      <td>1</td>\n",
       "    </tr>\n",
       "    <tr>\n",
       "      <th>4</th>\n",
       "      <td>Subject: do not have money , get software cds ...</td>\n",
       "      <td>1</td>\n",
       "    </tr>\n",
       "  </tbody>\n",
       "</table>\n",
       "</div>"
      ],
      "text/plain": [
       "                                                text  spam\n",
       "0  Subject: naturally irresistible your corporate...     1\n",
       "1  Subject: the stock trading gunslinger  fanny i...     1\n",
       "2  Subject: unbelievable new homes made easy  im ...     1\n",
       "3  Subject: 4 color printing special  request add...     1\n",
       "4  Subject: do not have money , get software cds ...     1"
      ]
     },
     "execution_count": 4,
     "metadata": {
      "tags": []
     },
     "output_type": "execute_result"
    }
   ],
   "source": [
    "data = pd.read_csv(\"spamham.csv\")\n",
    "data.head()"
   ]
  },
  {
   "cell_type": "code",
   "execution_count": null,
   "metadata": {
    "colab": {
     "base_uri": "https://localhost:8080/",
     "height": 51
    },
    "id": "FlntqgySVOZG",
    "outputId": "007fc4fd-5571-44d1-dab0-c8a770892335"
   },
   "outputs": [
    {
     "name": "stdout",
     "output_type": "stream",
     "text": [
      "Index(['text', 'spam'], dtype='object')\n"
     ]
    },
    {
     "data": {
      "text/plain": [
       "(5728, 2)"
      ]
     },
     "execution_count": 5,
     "metadata": {
      "tags": []
     },
     "output_type": "execute_result"
    }
   ],
   "source": [
    "print(data.columns)\n",
    "data.shape"
   ]
  },
  {
   "cell_type": "code",
   "execution_count": null,
   "metadata": {
    "colab": {
     "base_uri": "https://localhost:8080/",
     "height": 68
    },
    "id": "aLtQw_4dXttO",
    "outputId": "fd60a6ed-a944-498c-d822-cf44db826903"
   },
   "outputs": [
    {
     "data": {
      "text/plain": [
       "text    0\n",
       "spam    0\n",
       "dtype: int64"
      ]
     },
     "execution_count": 6,
     "metadata": {
      "tags": []
     },
     "output_type": "execute_result"
    }
   ],
   "source": [
    "data.drop_duplicates(inplace = True)\n",
    "data.isnull().sum()"
   ]
  },
  {
   "cell_type": "code",
   "execution_count": null,
   "metadata": {
    "colab": {
     "base_uri": "https://localhost:8080/",
     "height": 34
    },
    "id": "4KNWJVPJYAIq",
    "outputId": "c9e12056-5be7-49c8-c75f-7f61f915cff1"
   },
   "outputs": [
    {
     "data": {
      "text/plain": [
       "(5695, 2)"
      ]
     },
     "execution_count": 7,
     "metadata": {
      "tags": []
     },
     "output_type": "execute_result"
    }
   ],
   "source": [
    "data.shape"
   ]
  },
  {
   "cell_type": "code",
   "execution_count": null,
   "metadata": {
    "colab": {
     "base_uri": "https://localhost:8080/",
     "height": 51
    },
    "id": "LmAVkWLEYviB",
    "outputId": "6640eb14-1db0-4432-efdb-dcee03cddbc3"
   },
   "outputs": [
    {
     "name": "stdout",
     "output_type": "stream",
     "text": [
      "[nltk_data] Downloading package stopwords to /root/nltk_data...\n",
      "[nltk_data]   Unzipping corpora/stopwords.zip.\n"
     ]
    }
   ],
   "source": [
    "#Tokenizing our dataset and creating a function for that\n",
    "\n",
    "from nltk.tokenize import RegexpTokenizer\n",
    "\n",
    "def clean_text(text):\n",
    "    tokenizer = RegexpTokenizer(r'\\w+')\n",
    "\n",
    "    clean_text = tokenizer.tokenize(text)\n",
    "    return \" \".join(clean_text).lower()           #We aqre using join to ceate clean_text into sentence rather than list\n",
    "\n",
    "#unlike previously, we will download only stopwords\n",
    "nltk.download('stopwords')\n",
    "from nltk.corpus import stopwords\n",
    "\n",
    "def clean_with_stopwords(clean_text):\n",
    "\n",
    "    sr = stopwords.words('english')\n",
    "    len(sr)\n",
    "\n",
    "    summary_words = []\n",
    "    for word in clean_text.split():\n",
    "\n",
    "        if word.lower() not in sr:\n",
    "            summary_words.append(word)\n",
    "\n",
    "    return summary_words"
   ]
  },
  {
   "cell_type": "code",
   "execution_count": null,
   "metadata": {
    "colab": {
     "base_uri": "https://localhost:8080/",
     "height": 119
    },
    "id": "WEJS_LuQYM5h",
    "outputId": "a52684bc-ceeb-4953-be13-de46cb693e84"
   },
   "outputs": [
    {
     "data": {
      "text/plain": [
       "0    [subject, naturally, irresistible, corporate, ...\n",
       "1    [subject, stock, trading, gunslinger, fanny, m...\n",
       "2    [subject, unbelievable, new, homes, made, easy...\n",
       "3    [subject, 4, color, printing, special, request...\n",
       "4    [subject, money, get, software, cds, software,...\n",
       "Name: text, dtype: object"
      ]
     },
     "execution_count": 16,
     "metadata": {
      "tags": []
     },
     "output_type": "execute_result"
    }
   ],
   "source": [
    "data['text'].head().apply(clean_text).apply(clean_with_stopwords)"
   ]
  },
  {
   "cell_type": "code",
   "execution_count": null,
   "metadata": {
    "id": "BoO67cDUYoNK"
   },
   "outputs": [],
   "source": [
    "def process_text(text):\n",
    "\n",
    "    cleaned_text             = clean_text(text)\n",
    "    cleaned_without_stopword = clean_with_stopwords(cleaned_text) \n",
    "\n",
    "    return cleaned_without_stopword"
   ]
  },
  {
   "cell_type": "code",
   "execution_count": null,
   "metadata": {
    "id": "YSgXd3OKbs8l"
   },
   "outputs": [],
   "source": [
    "#vectorizing our data\n",
    "from sklearn.feature_extraction.text import CountVectorizer\n",
    "\n",
    "messages_in_vector = CountVectorizer(analyzer=process_text).fit_transform(data['text'])"
   ]
  },
  {
   "cell_type": "code",
   "execution_count": null,
   "metadata": {
    "colab": {
     "base_uri": "https://localhost:8080/",
     "height": 34
    },
    "id": "pi8faqNEySkw",
    "outputId": "fab8bfdc-5d9e-4511-8208-05821707eb78"
   },
   "outputs": [
    {
     "data": {
      "text/plain": [
       "(5695, 37189)"
      ]
     },
     "execution_count": 22,
     "metadata": {
      "tags": []
     },
     "output_type": "execute_result"
    }
   ],
   "source": [
    "messages_in_vector.shape"
   ]
  },
  {
   "cell_type": "code",
   "execution_count": null,
   "metadata": {
    "id": "Q6vhJZiKcCCz"
   },
   "outputs": [],
   "source": [
    "#Train test split\n",
    "\n",
    "from sklearn.model_selection import train_test_split\n",
    "X = messages_in_vector\n",
    "y = data[\"spam\"]\n",
    "\n",
    "X_train, X_test, y_train, y_test = train_test_split( X, y, test_size = 0.20, random_state = 7)"
   ]
  },
  {
   "cell_type": "code",
   "execution_count": null,
   "metadata": {
    "colab": {
     "base_uri": "https://localhost:8080/",
     "height": 85
    },
    "id": "hbcUfHxdcbOX",
    "outputId": "54d2db66-2668-4945-9ab6-562e5009972a"
   },
   "outputs": [
    {
     "name": "stdout",
     "output_type": "stream",
     "text": [
      "(4556, 37189)\n",
      "(1139, 37189)\n",
      "(4556,)\n",
      "(1139,)\n"
     ]
    }
   ],
   "source": [
    "for i in (X_train, X_test, y_train, y_test):\n",
    "    print(i.shape)"
   ]
  },
  {
   "cell_type": "code",
   "execution_count": null,
   "metadata": {
    "colab": {
     "base_uri": "https://localhost:8080/",
     "height": 34
    },
    "id": "zCNiIAr5chYg",
    "outputId": "8cbfef9a-ed57-4a3b-f970-7edf188d503e"
   },
   "outputs": [
    {
     "data": {
      "text/plain": [
       "MultinomialNB(alpha=1.0, class_prior=None, fit_prior=True)"
      ]
     },
     "execution_count": 25,
     "metadata": {
      "tags": []
     },
     "output_type": "execute_result"
    }
   ],
   "source": [
    "#Creating our model\n",
    "from sklearn.naive_bayes import MultinomialNB\n",
    "\n",
    "spam_filter = MultinomialNB()\n",
    "spam_filter.fit(X_train, y_train)"
   ]
  },
  {
   "cell_type": "code",
   "execution_count": null,
   "metadata": {
    "id": "ZqrFSR9Tcp6w"
   },
   "outputs": [],
   "source": [
    "from sklearn.metrics import confusion_matrix\n",
    "\n",
    "predictions = spam_filter.predict(X_test)\n",
    "actual      = y_test\n",
    "\n",
    "c_matrix = confusion_matrix(actual, predictions)"
   ]
  },
  {
   "cell_type": "code",
   "execution_count": null,
   "metadata": {
    "colab": {
     "base_uri": "https://localhost:8080/",
     "height": 34
    },
    "id": "OWdiCBP7dMd0",
    "outputId": "6a2ee7db-c86d-431f-9a4d-566feb2237d2"
   },
   "outputs": [
    {
     "name": "stdout",
     "output_type": "stream",
     "text": [
      "Recall is 0.9886101499423299\n"
     ]
    }
   ],
   "source": [
    "recall_without_avg = 0\n",
    "\n",
    "for i in range(2):\n",
    "    \n",
    "    recall_sum = 0\n",
    "\n",
    "    c_1 = c_matrix[i][i]\n",
    "    \n",
    "    for j in range(2):\n",
    "    \n",
    "        recall_sum += c_matrix[i][j]\n",
    "    \n",
    "    recall_without_avg += c_1/recall_sum       \n",
    "\n",
    "recall = recall_without_avg/2\n",
    "\n",
    "print(\"Recall is\", recall)"
   ]
  },
  {
   "cell_type": "code",
   "execution_count": null,
   "metadata": {
    "colab": {
     "base_uri": "https://localhost:8080/",
     "height": 34
    },
    "id": "Iiud1HOs1Vwz",
    "outputId": "b04a59fc-1662-4a0a-f512-d55f2eba55ce"
   },
   "outputs": [
    {
     "name": "stdout",
     "output_type": "stream",
     "text": [
      "Accuracy is 0.990342405618964\n"
     ]
    }
   ],
   "source": [
    "positive = 0\n",
    "\n",
    "for i in range(2):\n",
    "    \n",
    "    for j in range(2):\n",
    "    \n",
    "        if i==j:\n",
    "        \n",
    "            positive += c_matrix[i][j]\n",
    "         \n",
    "        \n",
    "Accuracy = positive /  c_matrix.sum()\n",
    "\n",
    "print(\"Accuracy is\", Accuracy)"
   ]
  },
  {
   "cell_type": "code",
   "execution_count": null,
   "metadata": {
    "colab": {
     "base_uri": "https://localhost:8080/",
     "height": 170
    },
    "id": "IgjwjZ4S1kH5",
    "outputId": "c76ea545-9533-4e34-f03b-3c0dd4ca5f6a"
   },
   "outputs": [
    {
     "name": "stdout",
     "output_type": "stream",
     "text": [
      "              precision    recall  f1-score   support\n",
      "\n",
      "           0       1.00      0.99      0.99       867\n",
      "           1       0.97      0.99      0.98       272\n",
      "\n",
      "    accuracy                           0.99      1139\n",
      "   macro avg       0.98      0.99      0.99      1139\n",
      "weighted avg       0.99      0.99      0.99      1139\n",
      "\n"
     ]
    }
   ],
   "source": [
    "from sklearn.metrics import classification_report\n",
    "print(classification_report(actual, predictions))"
   ]
  }
 ],
 "metadata": {
  "colab": {
   "name": "Spam_email_detection",
   "provenance": []
  },
  "kernelspec": {
   "display_name": "Python 3",
   "language": "python",
   "name": "python3"
  },
  "language_info": {
   "codemirror_mode": {
    "name": "ipython",
    "version": 3
   },
   "file_extension": ".py",
   "mimetype": "text/x-python",
   "name": "python",
   "nbconvert_exporter": "python",
   "pygments_lexer": "ipython3",
   "version": "3.7.3"
  }
 },
 "nbformat": 4,
 "nbformat_minor": 1
}
